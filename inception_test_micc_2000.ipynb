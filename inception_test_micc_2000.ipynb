{
 "cells": [
  {
   "cell_type": "markdown",
   "source": [
    "## Import the dependencies"
   ],
   "metadata": {
    "collapsed": false,
    "pycharm": {
     "name": "#%% md\n"
    }
   }
  },
  {
   "cell_type": "code",
   "execution_count": 1,
   "outputs": [],
   "source": [
    "import keras\n",
    "from keras.layers import Conv2D, MaxPool2D, Dropout, Dense, Input, concatenate, AveragePooling2D, Flatten\n",
    "from keras.models import Model\n",
    "\n",
    "import cv2\n",
    "from keras.utils import np_utils\n",
    "import tensorflow as tf\n",
    "import numpy as np\n",
    "from sklearn.model_selection import train_test_split\n",
    "import tensorflow.keras.callbacks as callbacks\n",
    "import math\n",
    "import matplotlib.pyplot as plt\n",
    "\n",
    "from sklearn.metrics import roc_curve, roc_auc_score"
   ],
   "metadata": {
    "collapsed": false,
    "pycharm": {
     "name": "#%%\n"
    }
   }
  },
  {
   "cell_type": "markdown",
   "source": [
    "## create inception module"
   ],
   "metadata": {
    "collapsed": false,
    "pycharm": {
     "name": "#%% md\n"
    }
   }
  },
  {
   "cell_type": "code",
   "execution_count": 2,
   "outputs": [],
   "source": [
    "def inception_module(x,\n",
    "                     filters_1x1,\n",
    "                     filters_3x3_reduce,\n",
    "                     filters_3x3,\n",
    "                     filters_5x5_reduce,\n",
    "                     filters_5x5,\n",
    "                     filters_pool_proj,\n",
    "                     bias_init, kernel_init,\n",
    "                     name=None):\n",
    "    conv_1x1 = Conv2D(filters=filters_1x1, kernel_size=(1, 1),\n",
    "                      padding='same', activation='relu',\n",
    "                      bias_initializer=bias_init, kernel_initializer=kernel_init)(x)\n",
    "\n",
    "    conv_3x3 = Conv2D(filters=filters_3x3_reduce, kernel_size=(1, 1),\n",
    "                      padding='same', activation='relu',\n",
    "                      bias_initializer=bias_init, kernel_initializer=kernel_init)(x)\n",
    "    conv_3x3 = Conv2D(filters=filters_3x3, kernel_size=(3, 3),\n",
    "                      padding='same', activation='relu',\n",
    "                      bias_initializer=bias_init, kernel_initializer=kernel_init)(conv_3x3)\n",
    "\n",
    "    conv_5x5 = Conv2D(filters=filters_5x5_reduce, kernel_size=(1, 1),\n",
    "                      padding='same', activation='relu',\n",
    "                      bias_initializer=bias_init, kernel_initializer=kernel_init)(x)\n",
    "    conv_5x5 = Conv2D(filters=filters_5x5, kernel_size=(5, 5),\n",
    "                      padding='same', activation='relu',\n",
    "                      bias_initializer=bias_init, kernel_initializer=kernel_init)(conv_5x5)\n",
    "\n",
    "    pool_proj = MaxPool2D(pool_size=(3, 3), strides=(1, 1), padding='same')(x)\n",
    "    pool_proj = Conv2D(filters=filters_pool_proj, kernel_size=(1, 1),\n",
    "                       padding='same', activation='relu',\n",
    "                       bias_initializer=bias_init, kernel_initializer=kernel_init)(pool_proj)\n",
    "\n",
    "    output = concatenate([conv_1x1, conv_3x3, conv_5x5, pool_proj], axis=3, name=name)\n",
    "    return output"
   ],
   "metadata": {
    "collapsed": false,
    "pycharm": {
     "name": "#%%\n"
    }
   }
  },
  {
   "cell_type": "code",
   "execution_count": 3,
   "outputs": [],
   "source": [
    "def get_model():\n",
    "    kernel_init = keras.initializers.glorot_uniform()\n",
    "    bias_init = keras.initializers.Constant(value=0.2)\n",
    "    input_layer = Input(shape=(256, 256, 3))\n",
    "\n",
    "    x = Conv2D(filters=16, kernel_size=(3, 3), strides=(1, 1),\n",
    "               padding='same', activation='relu',\n",
    "               bias_initializer=bias_init, kernel_initializer=kernel_init,\n",
    "               name='CONV_1')(input_layer)\n",
    "    x = MaxPool2D(pool_size=(3, 3), strides=(2, 2),\n",
    "                  name='MaxPool_1')(x)\n",
    "\n",
    "    x = inception_module(x=x,\n",
    "                         filters_1x1=8,\n",
    "                         filters_3x3=12, filters_3x3_reduce=12,\n",
    "                         filters_5x5=4, filters_5x5_reduce=4,\n",
    "                         filters_pool_proj=8,\n",
    "                         bias_init=bias_init, kernel_init=kernel_init,\n",
    "                         name='INCEPT_1')\n",
    "    x = MaxPool2D(pool_size=(3, 3), strides=(2, 2),\n",
    "                  name='MaxPool_2')(x)\n",
    "\n",
    "    x = inception_module(x=x,\n",
    "                         filters_1x1=16,\n",
    "                         filters_3x3=24, filters_3x3_reduce=24,\n",
    "                         filters_5x5=8, filters_5x5_reduce=8,\n",
    "                         filters_pool_proj=16,\n",
    "                         bias_init=bias_init, kernel_init=kernel_init,\n",
    "                         name='INCEPT_2')\n",
    "    x = MaxPool2D(pool_size=(3, 3), strides=(2, 2),\n",
    "                  name='MaxPool_3')(x)\n",
    "\n",
    "    x = inception_module(x=x,\n",
    "                         filters_1x1=32,\n",
    "                         filters_3x3=48, filters_3x3_reduce=48,\n",
    "                         filters_5x5=16, filters_5x5_reduce=16,\n",
    "                         filters_pool_proj=32,\n",
    "                         bias_init=bias_init, kernel_init=kernel_init,\n",
    "                         name='INCEPT_3')\n",
    "    x = MaxPool2D(pool_size=(3, 3), strides=(2, 2),\n",
    "                  name='MaxPool_4')(x)\n",
    "\n",
    "    x = inception_module(x=x,\n",
    "                         filters_1x1=64,\n",
    "                         filters_3x3=96, filters_3x3_reduce=96,\n",
    "                         filters_5x5=32, filters_5x5_reduce=32,\n",
    "                         filters_pool_proj=64,\n",
    "                         bias_init=bias_init, kernel_init=kernel_init,\n",
    "                         name='INCEPT_4')\n",
    "    x = MaxPool2D(pool_size=(3, 3), strides=(2, 2),\n",
    "                  name='MaxPool_5')(x)\n",
    "\n",
    "    x = Conv2D(filters=512, kernel_size=(3, 3), strides=(2, 2),\n",
    "               padding='same', activation='relu',\n",
    "               bias_initializer=bias_init, kernel_initializer=kernel_init,\n",
    "               name='CONV_2')(x)\n",
    "    x = AveragePooling2D(pool_size=(2, 2), strides=(2, 2),\n",
    "                         name='AvgPool_1')(x)\n",
    "    x = Flatten()(x)\n",
    "    x = Dense(512, activation='relu', name='linear')(x)\n",
    "    x = Dense(2, activation='softmax', name='output')(x)\n",
    "\n",
    "    model = Model(input_layer, [x], name='StenographyDetector')\n",
    "    return model"
   ],
   "metadata": {
    "collapsed": false,
    "pycharm": {
     "name": "#%%\n"
    }
   }
  },
  {
   "cell_type": "code",
   "execution_count": 4,
   "outputs": [
    {
     "name": "stdout",
     "output_type": "stream",
     "text": [
      "Model: \"StenographyDetector\"\n",
      "__________________________________________________________________________________________________\n",
      "Layer (type)                    Output Shape         Param #     Connected to                     \n",
      "==================================================================================================\n",
      "input_1 (InputLayer)            [(None, 256, 256, 3) 0                                            \n",
      "__________________________________________________________________________________________________\n",
      "CONV_1 (Conv2D)                 (None, 256, 256, 16) 448         input_1[0][0]                    \n",
      "__________________________________________________________________________________________________\n",
      "MaxPool_1 (MaxPooling2D)        (None, 127, 127, 16) 0           CONV_1[0][0]                     \n",
      "__________________________________________________________________________________________________\n",
      "conv2d_1 (Conv2D)               (None, 127, 127, 12) 204         MaxPool_1[0][0]                  \n",
      "__________________________________________________________________________________________________\n",
      "conv2d_3 (Conv2D)               (None, 127, 127, 4)  68          MaxPool_1[0][0]                  \n",
      "__________________________________________________________________________________________________\n",
      "max_pooling2d (MaxPooling2D)    (None, 127, 127, 16) 0           MaxPool_1[0][0]                  \n",
      "__________________________________________________________________________________________________\n",
      "conv2d (Conv2D)                 (None, 127, 127, 8)  136         MaxPool_1[0][0]                  \n",
      "__________________________________________________________________________________________________\n",
      "conv2d_2 (Conv2D)               (None, 127, 127, 12) 1308        conv2d_1[0][0]                   \n",
      "__________________________________________________________________________________________________\n",
      "conv2d_4 (Conv2D)               (None, 127, 127, 4)  404         conv2d_3[0][0]                   \n",
      "__________________________________________________________________________________________________\n",
      "conv2d_5 (Conv2D)               (None, 127, 127, 8)  136         max_pooling2d[0][0]              \n",
      "__________________________________________________________________________________________________\n",
      "INCEPT_1 (Concatenate)          (None, 127, 127, 32) 0           conv2d[0][0]                     \n",
      "                                                                 conv2d_2[0][0]                   \n",
      "                                                                 conv2d_4[0][0]                   \n",
      "                                                                 conv2d_5[0][0]                   \n",
      "__________________________________________________________________________________________________\n",
      "MaxPool_2 (MaxPooling2D)        (None, 63, 63, 32)   0           INCEPT_1[0][0]                   \n",
      "__________________________________________________________________________________________________\n",
      "conv2d_7 (Conv2D)               (None, 63, 63, 24)   792         MaxPool_2[0][0]                  \n",
      "__________________________________________________________________________________________________\n",
      "conv2d_9 (Conv2D)               (None, 63, 63, 8)    264         MaxPool_2[0][0]                  \n",
      "__________________________________________________________________________________________________\n",
      "max_pooling2d_1 (MaxPooling2D)  (None, 63, 63, 32)   0           MaxPool_2[0][0]                  \n",
      "__________________________________________________________________________________________________\n",
      "conv2d_6 (Conv2D)               (None, 63, 63, 16)   528         MaxPool_2[0][0]                  \n",
      "__________________________________________________________________________________________________\n",
      "conv2d_8 (Conv2D)               (None, 63, 63, 24)   5208        conv2d_7[0][0]                   \n",
      "__________________________________________________________________________________________________\n",
      "conv2d_10 (Conv2D)              (None, 63, 63, 8)    1608        conv2d_9[0][0]                   \n",
      "__________________________________________________________________________________________________\n",
      "conv2d_11 (Conv2D)              (None, 63, 63, 16)   528         max_pooling2d_1[0][0]            \n",
      "__________________________________________________________________________________________________\n",
      "INCEPT_2 (Concatenate)          (None, 63, 63, 64)   0           conv2d_6[0][0]                   \n",
      "                                                                 conv2d_8[0][0]                   \n",
      "                                                                 conv2d_10[0][0]                  \n",
      "                                                                 conv2d_11[0][0]                  \n",
      "__________________________________________________________________________________________________\n",
      "MaxPool_3 (MaxPooling2D)        (None, 31, 31, 64)   0           INCEPT_2[0][0]                   \n",
      "__________________________________________________________________________________________________\n",
      "conv2d_13 (Conv2D)              (None, 31, 31, 48)   3120        MaxPool_3[0][0]                  \n",
      "__________________________________________________________________________________________________\n",
      "conv2d_15 (Conv2D)              (None, 31, 31, 16)   1040        MaxPool_3[0][0]                  \n",
      "__________________________________________________________________________________________________\n",
      "max_pooling2d_2 (MaxPooling2D)  (None, 31, 31, 64)   0           MaxPool_3[0][0]                  \n",
      "__________________________________________________________________________________________________\n",
      "conv2d_12 (Conv2D)              (None, 31, 31, 32)   2080        MaxPool_3[0][0]                  \n",
      "__________________________________________________________________________________________________\n",
      "conv2d_14 (Conv2D)              (None, 31, 31, 48)   20784       conv2d_13[0][0]                  \n",
      "__________________________________________________________________________________________________\n",
      "conv2d_16 (Conv2D)              (None, 31, 31, 16)   6416        conv2d_15[0][0]                  \n",
      "__________________________________________________________________________________________________\n",
      "conv2d_17 (Conv2D)              (None, 31, 31, 32)   2080        max_pooling2d_2[0][0]            \n",
      "__________________________________________________________________________________________________\n",
      "INCEPT_3 (Concatenate)          (None, 31, 31, 128)  0           conv2d_12[0][0]                  \n",
      "                                                                 conv2d_14[0][0]                  \n",
      "                                                                 conv2d_16[0][0]                  \n",
      "                                                                 conv2d_17[0][0]                  \n",
      "__________________________________________________________________________________________________\n",
      "MaxPool_4 (MaxPooling2D)        (None, 15, 15, 128)  0           INCEPT_3[0][0]                   \n",
      "__________________________________________________________________________________________________\n",
      "conv2d_19 (Conv2D)              (None, 15, 15, 96)   12384       MaxPool_4[0][0]                  \n",
      "__________________________________________________________________________________________________\n",
      "conv2d_21 (Conv2D)              (None, 15, 15, 32)   4128        MaxPool_4[0][0]                  \n",
      "__________________________________________________________________________________________________\n",
      "max_pooling2d_3 (MaxPooling2D)  (None, 15, 15, 128)  0           MaxPool_4[0][0]                  \n",
      "__________________________________________________________________________________________________\n",
      "conv2d_18 (Conv2D)              (None, 15, 15, 64)   8256        MaxPool_4[0][0]                  \n",
      "__________________________________________________________________________________________________\n",
      "conv2d_20 (Conv2D)              (None, 15, 15, 96)   83040       conv2d_19[0][0]                  \n",
      "__________________________________________________________________________________________________\n",
      "conv2d_22 (Conv2D)              (None, 15, 15, 32)   25632       conv2d_21[0][0]                  \n",
      "__________________________________________________________________________________________________\n",
      "conv2d_23 (Conv2D)              (None, 15, 15, 64)   8256        max_pooling2d_3[0][0]            \n",
      "__________________________________________________________________________________________________\n",
      "INCEPT_4 (Concatenate)          (None, 15, 15, 256)  0           conv2d_18[0][0]                  \n",
      "                                                                 conv2d_20[0][0]                  \n",
      "                                                                 conv2d_22[0][0]                  \n",
      "                                                                 conv2d_23[0][0]                  \n",
      "__________________________________________________________________________________________________\n",
      "MaxPool_5 (MaxPooling2D)        (None, 7, 7, 256)    0           INCEPT_4[0][0]                   \n",
      "__________________________________________________________________________________________________\n",
      "CONV_2 (Conv2D)                 (None, 4, 4, 512)    1180160     MaxPool_5[0][0]                  \n",
      "__________________________________________________________________________________________________\n",
      "AvgPool_1 (AveragePooling2D)    (None, 2, 2, 512)    0           CONV_2[0][0]                     \n",
      "__________________________________________________________________________________________________\n",
      "flatten (Flatten)               (None, 2048)         0           AvgPool_1[0][0]                  \n",
      "__________________________________________________________________________________________________\n",
      "linear (Dense)                  (None, 512)          1049088     flatten[0][0]                    \n",
      "__________________________________________________________________________________________________\n",
      "output (Dense)                  (None, 2)            1026        linear[0][0]                     \n",
      "==================================================================================================\n",
      "Total params: 2,419,122\n",
      "Trainable params: 2,419,122\n",
      "Non-trainable params: 0\n",
      "__________________________________________________________________________________________________\n"
     ]
    }
   ],
   "source": [
    "sd_model = get_model()\n",
    "sd_model.summary()"
   ],
   "metadata": {
    "collapsed": false,
    "pycharm": {
     "name": "#%%\n"
    }
   }
  },
  {
   "cell_type": "markdown",
   "source": [
    "## Prepare the data:"
   ],
   "metadata": {
    "collapsed": false,
    "pycharm": {
     "name": "#%% md\n"
    }
   }
  },
  {
   "cell_type": "code",
   "execution_count": 5,
   "outputs": [],
   "source": [
    "num_classes = 2\n",
    "\n",
    "\n",
    "def load_data():\n",
    "    with open('MICC-F2000/ext_classes.txt') as file_with_names:\n",
    "        list_imgs = file_with_names.readlines()\n",
    "    file_with_names.close()\n",
    "\n",
    "    list_img_name_class = []\n",
    "    for line in list_imgs:\n",
    "        line = line[:-1]\n",
    "        list_img_name_class.append((line.split('\\t')[0], int(line.split('\\t')[1])))\n",
    "\n",
    "    x_data = []\n",
    "    y_data = []\n",
    "    for rec in list_img_name_class:\n",
    "        x_data.append(cv2.imread('MICC-F2000/extended/' + rec[0]))\n",
    "        y_data.append(rec[1])\n",
    "\n",
    "    x_data = np.array(x_data)\n",
    "    y_data = np_utils.to_categorical(y_data, num_classes)\n",
    "    return x_data, y_data\n",
    "\n",
    "\n",
    "xx, yy = load_data()"
   ],
   "metadata": {
    "collapsed": false,
    "pycharm": {
     "name": "#%%\n"
    }
   }
  },
  {
   "cell_type": "code",
   "execution_count": 6,
   "outputs": [
    {
     "name": "stdout",
     "output_type": "stream",
     "text": [
      "(10000, 256, 256, 3)\n",
      "[[0. 1.]\n",
      " [0. 1.]\n",
      " [0. 1.]\n",
      " ...\n",
      " [1. 0.]\n",
      " [1. 0.]\n",
      " [1. 0.]]\n"
     ]
    }
   ],
   "source": [
    "print(xx.shape)\n",
    "print(yy)"
   ],
   "metadata": {
    "collapsed": false,
    "pycharm": {
     "name": "#%%\n"
    }
   }
  },
  {
   "cell_type": "code",
   "execution_count": 7,
   "outputs": [],
   "source": [
    "# with huge amount of data it doesn't work properly\n",
    "# xx = xx / 255.0"
   ],
   "metadata": {
    "collapsed": false,
    "pycharm": {
     "name": "#%%\n"
    }
   }
  },
  {
   "cell_type": "code",
   "execution_count": 8,
   "outputs": [],
   "source": [
    "train_size = 0.9\n",
    "valid_size = 0.05\n",
    "test_size = 0.05\n",
    "\n",
    "x_train, x_test, y_train, y_test = train_test_split(xx, yy, test_size=test_size, random_state=13)\n",
    "x_test, x_valid, y_test, y_valid = train_test_split(x_test, y_test, test_size=0.5, random_state=142)"
   ],
   "metadata": {
    "collapsed": false,
    "pycharm": {
     "name": "#%%\n"
    }
   }
  },
  {
   "cell_type": "markdown",
   "source": [
    "## MODEL STUDYING"
   ],
   "metadata": {
    "collapsed": false,
    "pycharm": {
     "name": "#%% md\n"
    }
   }
  },
  {
   "cell_type": "code",
   "execution_count": 9,
   "outputs": [],
   "source": [
    "sd_model.compile(loss='categorical_crossentropy',\n",
    "                 optimizer='adamax',\n",
    "                 metrics=['accuracy'])"
   ],
   "metadata": {
    "collapsed": false,
    "pycharm": {
     "name": "#%%\n"
    }
   }
  },
  {
   "cell_type": "code",
   "execution_count": 10,
   "outputs": [
    {
     "name": "stdout",
     "output_type": "stream",
     "text": [
      "Epoch 1/40\n",
      "190/190 - 48s - loss: 1.7589 - accuracy: 0.6348 - val_loss: 0.5728 - val_accuracy: 0.7200\n",
      "Epoch 2/40\n",
      "190/190 - 44s - loss: 0.5795 - accuracy: 0.6989 - val_loss: 0.5352 - val_accuracy: 0.7200\n",
      "Epoch 3/40\n",
      "190/190 - 45s - loss: 0.5130 - accuracy: 0.7471 - val_loss: 0.4567 - val_accuracy: 0.8160\n",
      "Epoch 4/40\n",
      "190/190 - 44s - loss: 0.4422 - accuracy: 0.7957 - val_loss: 0.4089 - val_accuracy: 0.8200\n",
      "Epoch 5/40\n",
      "190/190 - 44s - loss: 0.3793 - accuracy: 0.8338 - val_loss: 0.3338 - val_accuracy: 0.8240\n",
      "Epoch 6/40\n",
      "190/190 - 44s - loss: 0.3428 - accuracy: 0.8543 - val_loss: 0.3770 - val_accuracy: 0.7960\n",
      "Epoch 7/40\n",
      "190/190 - 44s - loss: 0.3130 - accuracy: 0.8749 - val_loss: 0.3409 - val_accuracy: 0.8920\n",
      "Epoch 8/40\n",
      "190/190 - 44s - loss: 0.2961 - accuracy: 0.8845 - val_loss: 0.3377 - val_accuracy: 0.8440\n",
      "Epoch 9/40\n",
      "190/190 - 44s - loss: 0.2778 - accuracy: 0.8935 - val_loss: 0.2749 - val_accuracy: 0.8960\n",
      "Epoch 10/40\n",
      "190/190 - 44s - loss: 0.2774 - accuracy: 0.8952 - val_loss: 0.3129 - val_accuracy: 0.8720\n",
      "Epoch 11/40\n",
      "190/190 - 44s - loss: 0.2582 - accuracy: 0.9016 - val_loss: 0.2539 - val_accuracy: 0.9120\n",
      "Epoch 12/40\n",
      "190/190 - 44s - loss: 0.2468 - accuracy: 0.9086 - val_loss: 0.2882 - val_accuracy: 0.9120\n",
      "Epoch 13/40\n",
      "190/190 - 44s - loss: 0.2416 - accuracy: 0.9159 - val_loss: 0.2524 - val_accuracy: 0.9240\n",
      "Epoch 14/40\n",
      "190/190 - 44s - loss: 0.2450 - accuracy: 0.9076 - val_loss: 0.2491 - val_accuracy: 0.9040\n",
      "Epoch 15/40\n",
      "190/190 - 44s - loss: 0.2286 - accuracy: 0.9155 - val_loss: 0.2889 - val_accuracy: 0.9120\n",
      "Epoch 16/40\n",
      "190/190 - 44s - loss: 0.2264 - accuracy: 0.9204 - val_loss: 0.2896 - val_accuracy: 0.8840\n",
      "Epoch 17/40\n",
      "190/190 - 44s - loss: 0.2158 - accuracy: 0.9209 - val_loss: 0.2654 - val_accuracy: 0.9280\n",
      "Epoch 18/40\n",
      "190/190 - 44s - loss: 0.2108 - accuracy: 0.9257 - val_loss: 0.2183 - val_accuracy: 0.9400\n",
      "Epoch 19/40\n",
      "190/190 - 44s - loss: 0.2134 - accuracy: 0.9220 - val_loss: 0.2540 - val_accuracy: 0.9200\n",
      "Epoch 20/40\n",
      "190/190 - 44s - loss: 0.1937 - accuracy: 0.9291 - val_loss: 0.2656 - val_accuracy: 0.8880\n",
      "Epoch 21/40\n",
      "190/190 - 45s - loss: 0.1933 - accuracy: 0.9318 - val_loss: 0.2364 - val_accuracy: 0.9160\n",
      "Epoch 22/40\n",
      "190/190 - 44s - loss: 0.1892 - accuracy: 0.9342 - val_loss: 0.1886 - val_accuracy: 0.9480\n",
      "Epoch 23/40\n",
      "190/190 - 45s - loss: 0.1942 - accuracy: 0.9319 - val_loss: 0.2106 - val_accuracy: 0.9320\n",
      "Epoch 24/40\n",
      "190/190 - 44s - loss: 0.1662 - accuracy: 0.9457 - val_loss: 0.2403 - val_accuracy: 0.9200\n",
      "Epoch 25/40\n",
      "190/190 - 44s - loss: 0.1703 - accuracy: 0.9434 - val_loss: 0.2313 - val_accuracy: 0.9080\n",
      "Epoch 26/40\n",
      "190/190 - 44s - loss: 0.1706 - accuracy: 0.9425 - val_loss: 0.1889 - val_accuracy: 0.9440\n",
      "Epoch 27/40\n",
      "190/190 - 44s - loss: 0.1635 - accuracy: 0.9471 - val_loss: 0.1900 - val_accuracy: 0.9520\n",
      "Epoch 28/40\n",
      "190/190 - 44s - loss: 0.1668 - accuracy: 0.9443 - val_loss: 0.2037 - val_accuracy: 0.9320\n",
      "Epoch 29/40\n",
      "190/190 - 44s - loss: 0.1649 - accuracy: 0.9445 - val_loss: 0.1944 - val_accuracy: 0.9400\n",
      "Epoch 30/40\n",
      "190/190 - 44s - loss: 0.1649 - accuracy: 0.9462 - val_loss: 0.1653 - val_accuracy: 0.9520\n",
      "Epoch 31/40\n",
      "190/190 - 45s - loss: 0.1512 - accuracy: 0.9520 - val_loss: 0.2033 - val_accuracy: 0.9480\n",
      "Epoch 32/40\n",
      "190/190 - 44s - loss: 0.1475 - accuracy: 0.9520 - val_loss: 0.1850 - val_accuracy: 0.9600\n",
      "Epoch 33/40\n",
      "190/190 - 44s - loss: 0.1421 - accuracy: 0.9564 - val_loss: 0.1721 - val_accuracy: 0.9480\n",
      "Epoch 34/40\n",
      "190/190 - 44s - loss: 0.1578 - accuracy: 0.9484 - val_loss: 0.1806 - val_accuracy: 0.9440\n",
      "Epoch 35/40\n",
      "190/190 - 44s - loss: 0.1434 - accuracy: 0.9546 - val_loss: 0.1920 - val_accuracy: 0.9440\n",
      "Epoch 36/40\n",
      "190/190 - 44s - loss: 0.1417 - accuracy: 0.9547 - val_loss: 0.1823 - val_accuracy: 0.9520\n",
      "Epoch 37/40\n",
      "190/190 - 44s - loss: 0.1357 - accuracy: 0.9587 - val_loss: 0.1748 - val_accuracy: 0.9520\n",
      "Epoch 38/40\n",
      "190/190 - 44s - loss: 0.1473 - accuracy: 0.9533 - val_loss: 0.2064 - val_accuracy: 0.9440\n",
      "Epoch 39/40\n",
      "190/190 - 44s - loss: 0.1275 - accuracy: 0.9612 - val_loss: 0.1747 - val_accuracy: 0.9520\n",
      "Epoch 40/40\n",
      "190/190 - 44s - loss: 0.1260 - accuracy: 0.9609 - val_loss: 0.2052 - val_accuracy: 0.9440\n"
     ]
    }
   ],
   "source": [
    "history = sd_model.fit(x_train, y_train, batch_size=50, epochs=40,\n",
    "                       validation_data=(x_valid, y_valid),\n",
    "                       verbose=2, shuffle=True)"
   ],
   "metadata": {
    "collapsed": false,
    "pycharm": {
     "name": "#%%\n"
    }
   }
  },
  {
   "cell_type": "code",
   "execution_count": 11,
   "outputs": [
    {
     "name": "stdout",
     "output_type": "stream",
     "text": [
      "2/2 [==============================] - 3s 1s/step - loss: 0.1028 - accuracy: 0.9720\n",
      "Test result: 97.200 loss: 0.103\n"
     ]
    }
   ],
   "source": [
    "scores = sd_model.evaluate(x_test, y_test, batch_size=128, verbose=1)\n",
    "print('Test result: %.3f loss: %.3f' % (scores[1] * 100, scores [0]))"
   ],
   "metadata": {
    "collapsed": false,
    "pycharm": {
     "name": "#%%\n"
    }
   }
  },
  {
   "cell_type": "code",
   "execution_count": 12,
   "outputs": [
    {
     "data": {
      "text/plain": "<Figure size 432x288 with 1 Axes>",
      "image/png": "[encoded data removed]"
     },
     "metadata": {
      "needs_background": "light"
     },
     "output_type": "display_data"
    }
   ],
   "source": [
    "plt.plot(history.history['accuracy'], label='train acc')\n",
    "plt.plot(history.history['val_accuracy'], label='val acc')\n",
    "plt.legend()\n",
    "plt.show()"
   ],
   "metadata": {
    "collapsed": false,
    "pycharm": {
     "name": "#%%\n"
    }
   }
  },
  {
   "cell_type": "code",
   "execution_count": 13,
   "outputs": [
    {
     "data": {
      "text/plain": "<Figure size 432x288 with 1 Axes>",
      "image/png": "[encoded data removed]"
     },
     "metadata": {
      "needs_background": "light"
     },
     "output_type": "display_data"
    }
   ],
   "source": [
    "plt.plot(history.history['loss'], label='train loss')\n",
    "plt.plot(history.history['val_loss'], label='val loss')\n",
    "plt.legend()\n",
    "plt.show()"
   ],
   "metadata": {
    "collapsed": false,
    "pycharm": {
     "name": "#%%\n"
    }
   }
  },
  {
   "cell_type": "code",
   "execution_count": 19,
   "outputs": [
    {
     "name": "stdout",
     "output_type": "stream",
     "text": [
      "INFO:tensorflow:Assets written to: model_v1.dat/assets\n"
     ]
    }
   ],
   "source": [
    "sd_model.save('model_v1.dat')"
   ],
   "metadata": {
    "collapsed": false,
    "pycharm": {
     "name": "#%%\n"
    }
   }
  },
  {
   "cell_type": "code",
   "execution_count": 15,
   "outputs": [],
   "source": [
    "y_test_pred = sd_model.predict(x_test)"
   ],
   "metadata": {
    "collapsed": false,
    "pycharm": {
     "name": "#%%\n"
    }
   }
  },
  {
   "cell_type": "code",
   "execution_count": 16,
   "outputs": [],
   "source": [
    "confusion_matrix = tf.math.confusion_matrix(y_test.argmax(axis=1), y_test_pred.argmax(axis=1))"
   ],
   "metadata": {
    "collapsed": false,
    "pycharm": {
     "name": "#%%\n"
    }
   }
  },
  {
   "cell_type": "code",
   "execution_count": 17,
   "outputs": [
    {
     "data": {
      "text/plain": "<tf.Tensor: shape=(2, 2), dtype=int32, numpy=\narray([[152,   6],\n       [  1,  91]], dtype=int32)>"
     },
     "execution_count": 17,
     "metadata": {},
     "output_type": "execute_result"
    }
   ],
   "source": [
    "confusion_matrix"
   ],
   "metadata": {
    "collapsed": false,
    "pycharm": {
     "name": "#%%\n"
    }
   }
  },
  {
   "cell_type": "code",
   "execution_count": 18,
   "outputs": [
    {
     "data": {
      "text/plain": "<Figure size 432x288 with 1 Axes>",
      "image/png": "[encoded data removed]"
     },
     "metadata": {
      "needs_background": "light"
     },
     "output_type": "display_data"
    }
   ],
   "source": [
    "fpr_m, tpr_m, thresholds_m = roc_curve(y_test.argmax(axis=1), y_test_pred.argmax(axis=1))\n",
    "\n",
    "def plot_roc_curve(fpr, tpr):\n",
    "    plt.plot(fpr,tpr)\n",
    "    plt.axis([0,1,0,1])\n",
    "    plt.xlabel('False Positive Rate')\n",
    "    plt.ylabel('True Positive Rate')\n",
    "    plt.show()\n",
    "\n",
    "plot_roc_curve (fpr_m, tpr_m)"
   ],
   "metadata": {
    "collapsed": false,
    "pycharm": {
     "name": "#%%\n"
    }
   }
  },
  {
   "cell_type": "code",
   "execution_count": null,
   "outputs": [],
   "source": [],
   "metadata": {
    "collapsed": false,
    "pycharm": {
     "name": "#%%\n"
    }
   }
  }
 ],
 "metadata": {
  "kernelspec": {
   "display_name": "Python 3",
   "language": "python",
   "name": "python3"
  },
  "language_info": {
   "codemirror_mode": {
    "name": "ipython",
    "version": 2
   },
   "file_extension": ".py",
   "mimetype": "text/x-python",
   "name": "python",
   "nbconvert_exporter": "python",
   "pygments_lexer": "ipython2",
   "version": "2.7.6"
  }
 },
 "nbformat": 4,
 "nbformat_minor": 0
}